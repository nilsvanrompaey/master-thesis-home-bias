{
 "cells": [
  {
   "cell_type": "code",
   "execution_count": 1,
   "id": "0b8fa477",
   "metadata": {},
   "outputs": [],
   "source": [
    "# Standard Library Imports (if any)\n",
    "\n",
    "# Third-party Library Imports\n",
    "import pandas as pd\n",
    "import numpy as np\n",
    "import matplotlib.pyplot as plt\n",
    "import statsmodels.api as sm\n",
    "from IPython.display import display, HTML\n",
    "from adjustText import adjust_text\n",
    "from sklearn.preprocessing import StandardScaler\n",
    "from linearmodels.panel import PanelOLS, PooledOLS, RandomEffects\n",
    "\n",
    "# Local Module Imports\n",
    "from utils import *\n",
    "from new_data_handling import DataManager\n",
    "from plot import *\n",
    "from new_data_handling.data_processor import *"
   ]
  },
  {
   "cell_type": "code",
   "execution_count": 2,
   "id": "460eac54",
   "metadata": {},
   "outputs": [],
   "source": [
    "major = COUNTRIES.MAJOR\n",
    "offshore = COUNTRIES.OFFSHORE\n",
    "sample = major + offshore\n",
    "period = (2001, 2004)\n",
    "save = None\n",
    "interpolate = False\n",
    "dm = DataManager(\n",
    "    raw_dir = \"../data/raw\",\n",
    "    save_dir = \"../data/clean\"\n",
    ")\n",
    "ds_full = dm.get_dataset(\"ds\")\n",
    "fed_full = dm.get_dataset(\"fed\")\n",
    "# dm.clean_data()\n",
    "# dm.save_data()"
   ]
  },
  {
   "cell_type": "code",
   "execution_count": 9,
   "id": "32f1ab95",
   "metadata": {},
   "outputs": [],
   "source": [
    "nu_1 = np.array([1,2,3,4,5])\n",
    "nu_2 = np.array([0,0,1,2,3])"
   ]
  },
  {
   "cell_type": "code",
   "execution_count": 10,
   "id": "118a7092",
   "metadata": {},
   "outputs": [
    {
     "data": {
      "text/plain": [
       "array([[1.       , 0.9701425],\n",
       "       [0.9701425, 1.       ]])"
      ]
     },
     "execution_count": 10,
     "metadata": {},
     "output_type": "execute_result"
    }
   ],
   "source": [
    "np.corrcoef(nu_1, nu_2)"
   ]
  },
  {
   "cell_type": "code",
   "execution_count": null,
   "id": "505f3241",
   "metadata": {},
   "outputs": [],
   "source": []
  }
 ],
 "metadata": {
  "kernelspec": {
   "display_name": ".venv",
   "language": "python",
   "name": "python3"
  },
  "language_info": {
   "codemirror_mode": {
    "name": "ipython",
    "version": 3
   },
   "file_extension": ".py",
   "mimetype": "text/x-python",
   "name": "python",
   "nbconvert_exporter": "python",
   "pygments_lexer": "ipython3",
   "version": "3.12.4"
  }
 },
 "nbformat": 4,
 "nbformat_minor": 5
}
