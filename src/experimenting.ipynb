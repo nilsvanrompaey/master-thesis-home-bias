{
 "cells": [
  {
   "cell_type": "code",
   "execution_count": null,
   "metadata": {},
   "outputs": [],
   "source": [
    "# Standard Library Imports (if any)\n",
    "\n",
    "# Third-party Library Imports\n",
    "import pandas as pd\n",
    "import numpy as np\n",
    "import matplotlib.pyplot as plt\n",
    "import statsmodels.api as sm\n",
    "from IPython.display import display, HTML\n",
    "from adjustText import adjust_text\n",
    "\n",
    "# Local Module Imports\n",
    "from utils import *\n",
    "from data_handling import *\n",
    "from plot import *\n"
   ]
  },
  {
   "cell_type": "code",
   "execution_count": 6,
   "metadata": {},
   "outputs": [],
   "source": [
    "data = DataManager(\n",
    "    raw_dir = \"../data/raw\",\n",
    "    save_dir = \"../data/clean\"\n",
    ")\n",
    "data.process_and_save_data()\n",
    "data.load_data()\n",
    "# Access datasets\n",
    "cpis = data.get_dataset(\"cpis\")\n",
    "ds = data.get_dataset(\"ds\")\n",
    "fed = data.get_dataset(\"fed\")\n",
    "wb = data.get_dataset(\"wb\")\n",
    "wfe = data.get_dataset(\"wfe\")"
   ]
  },
  {
   "cell_type": "code",
   "execution_count": 7,
   "metadata": {},
   "outputs": [
    {
     "data": {
      "text/plain": [
       "array([[0.35, 0.35, 0.35],\n",
       "       [0.35, 0.35, 0.35],\n",
       "       [0.3 , 0.3 , 0.3 ]])"
      ]
     },
     "execution_count": 7,
     "metadata": {},
     "output_type": "execute_result"
    }
   ],
   "source": [
    "W_11 = np.array([\n",
    "    [0.3, 0.3, 0.3],\n",
    "    [0.3, 0.3, 0.3],\n",
    "    [0.3, 0.3, 0.3],\n",
    "    ])\n",
    "W_12 = np.array([\n",
    "    [0.3, 0.3],\n",
    "    [0.3, 0.3],\n",
    "    [0.3, 0.3],\n",
    "    ])\n",
    "W_12 = np.array([\n",
    "    [0.45, 0.0],\n",
    "    [0, 0.45],\n",
    "    [0, 0],\n",
    "    ])\n",
    "W_21 = np.array([\n",
    "    [0.05, 0.05, 0.05],\n",
    "    [0.05, 0.05, 0.05],\n",
    "    ])\n",
    "W_22 = np.array([\n",
    "    [0.5, 0.05],\n",
    "    [0.05, 0.5],\n",
    "    ])\n",
    "W = np.block([[W_11, W_12],\n",
    "              [W_21, W_22]])\n",
    "\n",
    "W_11 + W_12 @ np.linalg.inv(np.eye(2)-W_22) @ W_21"
   ]
  },
  {
   "cell_type": "code",
   "execution_count": 8,
   "metadata": {},
   "outputs": [
    {
     "data": {
      "text/plain": [
       "array([1., 1., 1.])"
      ]
     },
     "execution_count": 8,
     "metadata": {},
     "output_type": "execute_result"
    }
   ],
   "source": [
    "\n",
    "W = np.random.rand(5,5)\n",
    "W = W / W.sum(axis=0)\n",
    "W_11 = W[:3,:3]\n",
    "W_12 = W[:3,3:]\n",
    "W_21 = W[3:,:3]\n",
    "W_22 = W[3:,3:]\n",
    "\n",
    "W_c = W_11 + W_12 @ np.linalg.inv(np.eye(2)-W_22) @ W_21\n",
    "W_c.sum(axis=0)\n",
    "\n"
   ]
  },
  {
   "cell_type": "code",
   "execution_count": 10,
   "metadata": {},
   "outputs": [
    {
     "data": {
      "text/html": [
       "<div>\n",
       "<style scoped>\n",
       "    .dataframe tbody tr th:only-of-type {\n",
       "        vertical-align: middle;\n",
       "    }\n",
       "\n",
       "    .dataframe tbody tr th {\n",
       "        vertical-align: top;\n",
       "    }\n",
       "\n",
       "    .dataframe thead th {\n",
       "        text-align: right;\n",
       "    }\n",
       "</style>\n",
       "<table border=\"1\" class=\"dataframe\">\n",
       "  <thead>\n",
       "    <tr style=\"text-align: right;\">\n",
       "      <th></th>\n",
       "      <th></th>\n",
       "      <th>2004</th>\n",
       "    </tr>\n",
       "    <tr>\n",
       "      <th>Country Name</th>\n",
       "      <th>Counterpart Country Name</th>\n",
       "      <th></th>\n",
       "    </tr>\n",
       "  </thead>\n",
       "  <tbody>\n",
       "    <tr>\n",
       "      <th>BE</th>\n",
       "      <th>DE</th>\n",
       "      <td>7.360152e+09</td>\n",
       "    </tr>\n",
       "  </tbody>\n",
       "</table>\n",
       "</div>"
      ],
      "text/plain": [
       "                                               2004\n",
       "Country Name Counterpart Country Name              \n",
       "BE           DE                        7.360152e+09"
      ]
     },
     "execution_count": 10,
     "metadata": {},
     "output_type": "execute_result"
    }
   ],
   "source": [
    "cpis.get_data(\"BE\",\"DE\",2004)"
   ]
  },
  {
   "cell_type": "code",
   "execution_count": null,
   "metadata": {},
   "outputs": [],
   "source": []
  }
 ],
 "metadata": {
  "kernelspec": {
   "display_name": ".venv",
   "language": "python",
   "name": "python3"
  },
  "language_info": {
   "codemirror_mode": {
    "name": "ipython",
    "version": 3
   },
   "file_extension": ".py",
   "mimetype": "text/x-python",
   "name": "python",
   "nbconvert_exporter": "python",
   "pygments_lexer": "ipython3",
   "version": "3.12.4"
  }
 },
 "nbformat": 4,
 "nbformat_minor": 2
}
