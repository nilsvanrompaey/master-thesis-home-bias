{
 "cells": [
  {
   "cell_type": "code",
   "execution_count": 1,
   "metadata": {},
   "outputs": [],
   "source": [
    "# Standard Library Imports (if any)\n",
    "\n",
    "# Third-party Library Imports\n",
    "import pandas as pd\n",
    "import numpy as np\n",
    "import matplotlib.pyplot as plt\n",
    "import statsmodels.api as sm\n",
    "from IPython.display import display, HTML\n",
    "from adjustText import adjust_text\n",
    "from sklearn.preprocessing import StandardScaler\n",
    "\n",
    "# Local Module Imports\n",
    "from utils import *\n",
    "from data_handling import *\n",
    "from plot import *\n",
    "from data_handling.data_processor import *"
   ]
  },
  {
   "cell_type": "code",
   "execution_count": 2,
   "metadata": {},
   "outputs": [],
   "source": [
    "major = COUNTRIES.MAJOR\n",
    "offshore = COUNTRIES.OFFSHORE\n",
    "sample = major + offshore\n",
    "period = (2001, 2004)\n",
    "dm = DataManager(\n",
    "    raw_dir = \"../data/raw\",\n",
    "    save_dir = \"../data/clean\"\n",
    ")\n",
    "ds_full = dm.get_dataset(\"ds\")\n",
    "fed_full = dm.get_dataset(\"fed\")\n",
    "# dm.clean_data()\n",
    "# dm.save_data()\n",
    "dm.filter_data(None, period)"
   ]
  },
  {
   "cell_type": "code",
   "execution_count": 3,
   "metadata": {},
   "outputs": [],
   "source": [
    "# Access datasets\n",
    "cpis = dm.get_dataset(\"cpis\")\n",
    "ds = dm.get_dataset(\"ds\")\n",
    "fed = dm.get_dataset(\"fed\")\n",
    "wb = dm.get_dataset(\"wb\")\n",
    "wfe = dm.get_dataset(\"wfe\")\n",
    "gdp = dm.get_dataset(\"gdp\")\n",
    "\n",
    "major = COUNTRIES.MAJOR\n",
    "offshore = COUNTRIES.OFFSHORE\n",
    "sample = major + offshore"
   ]
  },
  {
   "cell_type": "code",
   "execution_count": 9,
   "metadata": {},
   "outputs": [],
   "source": [
    "weights_per_year = compute_weights(cpis, wb, major, offshore)\n",
    "weights_dict = {}\n",
    "for year in weights_per_year.columns:\n",
    "    weights_dict[year] = weights_per_year[year].unstack(\"Country\")\n",
    "weights_avg = weights_per_year.mean(axis=1).unstack(\"Country\")\n",
    "index_returns = compute_index_excess_returns(ds, fed ,major)\n",
    "\n",
    "means = pd.DataFrame(index=major)\n",
    "vars = pd.DataFrame(index=major)\n",
    "covs = pd.DataFrame(index=major)\n",
    "\n",
    "for year, weights in weights_dict.items():\n",
    "    returns = compute_excess_returns_statistics(index_returns, weights)\n",
    "    means[year] = returns[\"mean_portfolio\"]\n",
    "    vars[year] = returns[\"var_portfolio\"]  \n",
    "    covs[year] = returns[\"cov_index_portfolio\"]\n",
    "\n",
    "returns = compute_excess_returns_statistics(index_returns, weights_avg)\n",
    "means_avg = returns[\"mean_portfolio\"]\n",
    "vars_avg = returns[\"var_portfolio\"]  \n",
    "covs_avg = returns[\"cov_index_portfolio\"]"
   ]
  },
  {
   "cell_type": "code",
   "execution_count": 11,
   "metadata": {},
   "outputs": [
    {
     "name": "stdout",
     "output_type": "stream",
     "text": [
      "0.0006574869835458848\n"
     ]
    }
   ],
   "source": [
    "print((means.var(axis=1) / (vars_avg / 12)).mean())"
   ]
  },
  {
   "cell_type": "code",
   "execution_count": 1,
   "metadata": {},
   "outputs": [
    {
     "name": "stdout",
     "output_type": "stream",
     "text": [
      "   feature       VIF\n",
      "0    const  1.000000\n",
      "1  gdp/cap  1.147939\n",
      "2     mean  2.737717\n",
      "3      var  2.883875\n",
      "                            OLS Regression Results                            \n",
      "==============================================================================\n",
      "Dep. Variable:                      y   R-squared:                       0.100\n",
      "Model:                            OLS   Adj. R-squared:                  0.018\n",
      "Method:                 Least Squares   F-statistic:                     4.810\n",
      "Date:                Sat, 05 Apr 2025   Prob (F-statistic):            0.00690\n",
      "Time:                        16:55:02   Log-Likelihood:                -29.967\n",
      "No. Observations:                  37   AIC:                             67.93\n",
      "Df Residuals:                      33   BIC:                             74.38\n",
      "Df Model:                           3                                         \n",
      "Covariance Type:                  HAC                                         \n",
      "==============================================================================\n",
      "                 coef    std err          z      P>|z|      [0.025      0.975]\n",
      "------------------------------------------------------------------------------\n",
      "const          0.5502      0.075      7.308      0.000       0.403       0.698\n",
      "gdp/cap        0.1202      0.074      1.631      0.103      -0.024       0.265\n",
      "mean           0.1704      0.097      1.755      0.079      -0.020       0.361\n",
      "var           -0.1949      0.074     -2.627      0.009      -0.340      -0.050\n",
      "==============================================================================\n",
      "Omnibus:                       49.977   Durbin-Watson:                   2.261\n",
      "Prob(Omnibus):                  0.000   Jarque-Bera (JB):              270.123\n",
      "Skew:                           3.046   Prob(JB):                     2.21e-59\n",
      "Kurtosis:                      14.752   Cond. No.                         3.17\n",
      "==============================================================================\n",
      "\n",
      "Notes:\n",
      "[1] Standard Errors are heteroscedasticity and autocorrelation robust (HAC) using 4 lags and without small sample correction\n"
     ]
    }
   ],
   "source": [
    "# Standard Library Imports (if any)\n",
    "\n",
    "# Third-party Library Imports\n",
    "import matplotlib.pyplot as plt\n",
    "import numpy as np\n",
    "import pandas as pd\n",
    "import seaborn as sns\n",
    "import statsmodels.api as sm\n",
    "from IPython.display import display, HTML\n",
    "from adjustText import adjust_text\n",
    "from sklearn.preprocessing import StandardScaler\n",
    "from statsmodels.stats.outliers_influence import variance_inflation_factor\n",
    "\n",
    "# Local Module Imports\n",
    "from data_handling import *\n",
    "from data_handling.data_processor import *\n",
    "from plot import *\n",
    "from utils import *\n",
    "\n",
    "major = COUNTRIES.MAJOR\n",
    "offshore = COUNTRIES.OFFSHORE\n",
    "sample = major + offshore\n",
    "period = (2001, 2004)\n",
    "dm = DataManager(\n",
    "    raw_dir = \"../data/raw\",\n",
    "    save_dir = \"../data/clean\"\n",
    ")\n",
    "ds_full = dm.sources[\"ds\"].filter_period((None, 2004))\n",
    "fed_full = dm.sources[\"fed\"].filter_period((None, 2004))\n",
    "dm.filter_data(None, period)\n",
    "\n",
    "# Access datasets\n",
    "cpis = dm.get_dataset(\"cpis\")\n",
    "ds = dm.get_dataset(\"ds\")\n",
    "fed = dm.get_dataset(\"fed\")\n",
    "wb = dm.get_dataset(\"wb\")\n",
    "wfe = dm.get_dataset(\"wfe\")\n",
    "gdp = dm.get_dataset(\"gdp\")\n",
    "gdppc = dm.get_dataset(\"gdppc\")\n",
    "\n",
    "index_excess_returns = compute_index_excess_returns(ds_full, fed_full, major)\n",
    "weights = compute_weights(cpis, wb, major, offshore).mean(axis=1).unstack(level=\"Country\")\n",
    "return_statistics = compute_excess_returns_statistics(index_excess_returns, weights)\n",
    "domestic_investments = compute_domestic_investments(cpis, wb, major).droplevel(1)\n",
    "y = domestic_investments / gdp; y = y.mean(axis=1)\n",
    "X_1 = gdppc.mean(axis=1)\n",
    "X_2 = return_statistics[\"mean_portfolio\"]\n",
    "X_3 = return_statistics[\"var_portfolio\"]\n",
    "X = pd.concat([X_1, X_2, X_3], axis=1, keys=[\"gdp/cap\", \"mean\", \"var\"])\n",
    "\n",
    "X=(X-X.mean())/X.std() # Normalize\n",
    "X = sm.add_constant(X).sort_index()\n",
    "\n",
    "model = sm.OLS(y, X).fit(cov_type=\"HAC\", cov_kwds={\"maxlags\": 4}) # Newey-West with 4 lags \n",
    "y_pred = model.predict(X)\n",
    "\n",
    "vif_data = pd.DataFrame()\n",
    "vif_data[\"feature\"] = X.columns\n",
    "vif_data[\"VIF\"] = [variance_inflation_factor(X.values, i) for i in range(X.shape[1])]\n",
    "print(vif_data)\n",
    "\n",
    "print(model.summary())"
   ]
  },
  {
   "cell_type": "code",
   "execution_count": null,
   "metadata": {},
   "outputs": [
    {
     "ename": "NameError",
     "evalue": "name 'world_return' is not defined",
     "output_type": "error",
     "traceback": [
      "\u001b[1;31m---------------------------------------------------------------------------\u001b[0m",
      "\u001b[1;31mNameError\u001b[0m                                 Traceback (most recent call last)",
      "Cell \u001b[1;32mIn[11], line 11\u001b[0m\n\u001b[0;32m      6\u001b[0m \u001b[38;5;66;03m# Assume returns_df contains country-level stock returns\u001b[39;00m\n\u001b[0;32m      7\u001b[0m \u001b[38;5;66;03m# and world_return is the global stock market return.\u001b[39;00m\n\u001b[0;32m      8\u001b[0m \n\u001b[0;32m      9\u001b[0m \u001b[38;5;66;03m# Construct the independent variables\u001b[39;00m\n\u001b[0;32m     10\u001b[0m X \u001b[38;5;241m=\u001b[39m pd\u001b[38;5;241m.\u001b[39mDataFrame()\n\u001b[1;32m---> 11\u001b[0m X[\u001b[38;5;124m\"\u001b[39m\u001b[38;5;124mworld_return\u001b[39m\u001b[38;5;124m\"\u001b[39m] \u001b[38;5;241m=\u001b[39m \u001b[43mworld_return\u001b[49m\n\u001b[0;32m     12\u001b[0m X[\u001b[38;5;124m\"\u001b[39m\u001b[38;5;124mgdp_per_cap\u001b[39m\u001b[38;5;124m\"\u001b[39m] \u001b[38;5;241m=\u001b[39m gdp \u001b[38;5;241m/\u001b[39m wb\u001b[38;5;241m.\u001b[39mloc[major]\n\u001b[0;32m     13\u001b[0m X[\u001b[38;5;124m\"\u001b[39m\u001b[38;5;124mvar\u001b[39m\u001b[38;5;124m\"\u001b[39m] \u001b[38;5;241m=\u001b[39m ds\u001b[38;5;241m.\u001b[39mvar()  \u001b[38;5;66;03m# Could use rolling window variance\u001b[39;00m\n",
      "\u001b[1;31mNameError\u001b[0m: name 'world_return' is not defined"
     ]
    }
   ],
   "source": [
    "import pandas as pd\n",
    "import numpy as np\n",
    "import statsmodels.api as sm\n",
    "from arch import arch_model\n",
    "\n",
    "# Assume returns_df contains country-level stock returns\n",
    "# and world_return is the global stock market return.\n",
    "\n",
    "# Construct the independent variables\n",
    "X = pd.DataFrame()\n",
    "X[\"world_return\"] = world_return\n",
    "X[\"gdp_per_cap\"] = gdp / wb.loc[major]\n",
    "X[\"var\"] = ds.var()  # Could use rolling window variance\n",
    "X[\"gdp_growth\"] = gdp.pct_change()  # GDP growth as proxy for expected future growth\n",
    "X = X.dropna()\n",
    "\n",
    "# Fit a GARCH(1,1)-M model\n",
    "returns = ds.loc[X.index]  # Align data\n",
    "garch_m = arch_model(returns, vol=\"Garch\", p=1, q=1, mean=\"LS\")\n",
    "garch_m_fit = garch_m.fit(disp=\"off\")\n",
    "\n",
    "# Extract expected return (fitted value)\n",
    "expected_returns = garch_m_fit.params[\"mu\"] + X @ garch_m_fit.params.iloc[1:]\n"
   ]
  }
 ],
 "metadata": {
  "kernelspec": {
   "display_name": ".venv",
   "language": "python",
   "name": "python3"
  },
  "language_info": {
   "codemirror_mode": {
    "name": "ipython",
    "version": 3
   },
   "file_extension": ".py",
   "mimetype": "text/x-python",
   "name": "python",
   "nbconvert_exporter": "python",
   "pygments_lexer": "ipython3",
   "version": "3.12.4"
  }
 },
 "nbformat": 4,
 "nbformat_minor": 2
}
