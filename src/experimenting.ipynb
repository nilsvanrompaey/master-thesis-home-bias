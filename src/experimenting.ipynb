{
 "cells": [
  {
   "cell_type": "code",
   "execution_count": 1,
   "metadata": {},
   "outputs": [],
   "source": [
    "# Standard Library Imports (if any)\n",
    "\n",
    "# Third-party Library Imports\n",
    "import pandas as pd\n",
    "import numpy as np\n",
    "import matplotlib.pyplot as plt\n",
    "import statsmodels.api as sm\n",
    "from IPython.display import display, HTML\n",
    "from adjustText import adjust_text\n",
    "\n",
    "# Local Module Imports\n",
    "from utils import *\n",
    "from data_handling import *\n",
    "from plot import *\n"
   ]
  },
  {
   "cell_type": "code",
   "execution_count": 2,
   "metadata": {},
   "outputs": [],
   "source": [
    "data = DataManager(\n",
    "    raw_dir = \"../data/raw\",\n",
    "    save_dir = \"../data/clean\"\n",
    ")\n",
    "data.process_and_save_data()\n",
    "data.load_data()\n",
    "# Access datasets\n",
    "cpis = data.get_dataset(\"cpis\")\n",
    "ds = data.get_dataset(\"ds\")\n",
    "fed = data.get_dataset(\"fed\")\n",
    "wb = data.get_dataset(\"wb\")\n",
    "wfe = data.get_dataset(\"wfe\")\n",
    "gdp = data.get_dataset(\"gdp\")"
   ]
  },
  {
   "cell_type": "code",
   "execution_count": null,
   "metadata": {},
   "outputs": [],
   "source": []
  }
 ],
 "metadata": {
  "kernelspec": {
   "display_name": ".venv",
   "language": "python",
   "name": "python3"
  },
  "language_info": {
   "codemirror_mode": {
    "name": "ipython",
    "version": 3
   },
   "file_extension": ".py",
   "mimetype": "text/x-python",
   "name": "python",
   "nbconvert_exporter": "python",
   "pygments_lexer": "ipython3",
   "version": "3.12.4"
  }
 },
 "nbformat": 4,
 "nbformat_minor": 2
}
