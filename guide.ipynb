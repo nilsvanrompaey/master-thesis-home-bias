{
 "cells": [
  {
   "cell_type": "code",
   "execution_count": 1,
   "metadata": {},
   "outputs": [],
   "source": [
    "# Standard Library Imports (if any)\n",
    "\n",
    "# Third-party Library Imports\n",
    "import pandas as pd\n",
    "import numpy as np\n",
    "import matplotlib.pyplot as plt\n",
    "import statsmodels.api as sm\n",
    "from IPython.display import display, HTML\n",
    "\n",
    "# Local Module Imports\n",
    "import sys\n",
    "sys.path.append(\"./src\")  # Adjust the path to where the script is\n",
    "from utils import *\n",
    "from data import *"
   ]
  },
  {
   "cell_type": "code",
   "execution_count": 2,
   "metadata": {},
   "outputs": [],
   "source": [
    "# Create DataManager instance \n",
    "data = DataManager(\n",
    "    raw_dir = \"./data/raw\",\n",
    "    save_dir = \"./data/clean\"\n",
    ")\n",
    "data.clean_and_save_data()\n",
    "data.load_data()\n",
    "\n",
    "# Access datasets\n",
    "cpis = data.get_dataset(\"cpis\")\n",
    "ds = data.get_dataset(\"ds\")\n",
    "fed = data.get_dataset(\"fed\")\n",
    "wb = data.get_dataset(\"wb\")\n",
    "wfe = data.get_dataset(\"wfe\")"
   ]
  },
  {
   "cell_type": "code",
   "execution_count": 3,
   "metadata": {},
   "outputs": [
    {
     "name": "stdout",
     "output_type": "stream",
     "text": [
      "CPIS \n",
      " Country Name               AD       ...   ZW     \n",
      "Counterpart Country Name   AD   AE  ...   ZM   ZW\n",
      "2001                      0.0  0.0  ...  0.0  0.0\n",
      "2002                      0.0  0.0  ...  0.0  0.0\n",
      "2003                      0.0  0.0  ...  0.0  0.0\n",
      "\n",
      "[3 rows x 61504 columns]\n",
      "DS \n",
      "     1988-01-31  1988-02-29  ...  2024-10-31  2024-11-30\n",
      "AR         NaN         NaN  ...      381.77      416.42\n",
      "AT      264.37      269.32  ...     4378.30     4398.29\n",
      "BE      569.44      664.81  ...     8935.16     8934.15\n",
      "\n",
      "[3 rows x 443 columns]\n",
      "FED \n",
      "           1954-07-31  1954-08-31  ...  2024-12-31  2025-01-31\n",
      "FEDFUNDS       0.008      0.0122  ...      0.0448      0.0433\n",
      "\n",
      "[1 rows x 847 columns]\n",
      "WB \n",
      "                       1999          2000  ...          2022  2023\n",
      "Country Code                              ...                    \n",
      "IR            2.182703e+10  2.668566e+10  ...  1.613045e+12   NaN\n",
      "AF                     NaN           NaN  ...           NaN   NaN\n",
      "AL                     NaN           NaN  ...           NaN   NaN\n",
      "\n",
      "[3 rows x 25 columns]\n",
      "WFE \n",
      "       1999  2000  ...       2024  2025\n",
      "Code              ...                 \n",
      "AE     0.0   0.0  ...  816385.13   0.0\n",
      "AM     0.0   0.0  ...    4847.05   0.0\n",
      "AO     0.0   0.0  ...       0.00   0.0\n",
      "\n",
      "[3 rows x 27 columns]\n"
     ]
    }
   ],
   "source": [
    "# Display settings\n",
    "pd.set_option('display.width', 0)  # Automatically adjust width\n",
    "pd.set_option('display.max_columns', 5)  # Show all columns\n",
    "pd.set_option('display.max_colwidth', 20)  # Prevent text truncation\n",
    "\n",
    "# Print the head of each of the dataframes we are working with\n",
    "print(\"CPIS \\n\", cpis.head(3))\n",
    "print(\"DS \\n\", ds.head(3))\n",
    "print(\"FED \\n\", fed.head(3))\n",
    "print(\"WB \\n\", wb.head(3))\n",
    "print(\"WFE \\n\", wfe.head(3))"
   ]
  }
 ],
 "metadata": {
  "kernelspec": {
   "display_name": ".venv",
   "language": "python",
   "name": "python3"
  },
  "language_info": {
   "codemirror_mode": {
    "name": "ipython",
    "version": 3
   },
   "file_extension": ".py",
   "mimetype": "text/x-python",
   "name": "python",
   "nbconvert_exporter": "python",
   "pygments_lexer": "ipython3",
   "version": "3.12.4"
  }
 },
 "nbformat": 4,
 "nbformat_minor": 2
}
