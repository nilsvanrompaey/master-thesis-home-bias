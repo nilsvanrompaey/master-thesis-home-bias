{
 "cells": [
  {
   "cell_type": "code",
   "execution_count": 4,
   "metadata": {},
   "outputs": [],
   "source": [
    "# Standard Library Imports (if any)\n",
    "\n",
    "# Third-party Library Imports\n",
    "import pandas as pd\n",
    "import numpy as np\n",
    "import matplotlib.pyplot as plt\n",
    "import statsmodels.api as sm\n",
    "from IPython.display import display, HTML\n",
    "\n",
    "# Local Module Imports\n",
    "import sys\n",
    "sys.path.append(\"./src\")  # Adjust the path to where the script is\n",
    "from utils import *\n",
    "from data import *"
   ]
  },
  {
   "cell_type": "code",
   "execution_count": 5,
   "metadata": {},
   "outputs": [],
   "source": [
    "# Create DataManager instance \n",
    "data = DataManager(\n",
    "    raw_dir = \"./data/raw\",\n",
    "    save_dir = \"./data/clean\"\n",
    ")\n",
    "\n",
    "# Access datasets\n",
    "cpis = data.get_dataset(\"cpis\")\n",
    "wfe = data.get_dataset(\"wfe\")\n",
    "ds = data.get_dataset(\"ds\")\n",
    "fed = data.get_dataset(\"fed\")"
   ]
  },
  {
   "cell_type": "code",
   "execution_count": 6,
   "metadata": {},
   "outputs": [
    {
     "name": "stdout",
     "output_type": "stream",
     "text": [
      "CPIS \n",
      "                                            2001  2002  ...  2022  2023\n",
      "Country Name         Counterpart Count...              ...            \n",
      "Afghanistan, Isla... Afghanistan, Isla...   0.0   0.0  ...   0.0   0.0\n",
      "                     Albania                0.0   0.0  ...   0.0   0.0\n",
      "                     Algeria                0.0   0.0  ...   0.0   0.0\n",
      "\n",
      "[3 rows x 23 columns]\n",
      "WFE \n",
      "                                    1999         2000  ...          2024  2025\n",
      "Code  Exchange                                        ...                    \n",
      "WORLD Total Equity Mark...  20996602.53  31161784.05  ...  1.217963e+08   0.0\n",
      "AE    Abu Dhabi Securit...          NaN         0.00  ...  8.163851e+05   0.0\n",
      "US    American Stock Ex...         0.00     86775.00  ...  0.000000e+00   0.0\n",
      "\n",
      "[3 rows x 27 columns]\n",
      "DS \n",
      "            1988-01-31 23:59:59.999999999  1988-02-29 23:59:59.999999999  ...  \\\n",
      "ARGENTINA                  NaN                            NaN            ...   \n",
      "AUSTRIA                 264.37                         269.32            ...   \n",
      "BELGIUM                 569.44                         664.81            ...   \n",
      "\n",
      "           2024-10-31 23:59:59.999999999  2024-11-30 23:59:59.999999999  \n",
      "ARGENTINA               381.77                         416.42            \n",
      "AUSTRIA                4378.30                        4398.29            \n",
      "BELGIUM                8935.16                        8934.15            \n",
      "\n",
      "[3 rows x 443 columns]\n",
      "FED \n",
      " DATE      1954-07-31 23:59:59.999999999  1954-08-31 23:59:59.999999999  ...  \\\n",
      "FEDFUNDS                0.008                         0.0122            ...   \n",
      "\n",
      "DATE      2024-12-31 23:59:59.999999999  2025-01-31 23:59:59.999999999  \n",
      "FEDFUNDS               0.0448                         0.0433            \n",
      "\n",
      "[1 rows x 847 columns]\n"
     ]
    }
   ],
   "source": [
    "# Display settings\n",
    "pd.set_option('display.width', 0)  # Automatically adjust width\n",
    "pd.set_option('display.max_columns', 5)  # Show all columns\n",
    "pd.set_option('display.max_colwidth', 20)  # Prevent text truncation\n",
    "\n",
    "# Print the head of each of the dataframes we are working with\n",
    "print(\"CPIS \\n\", cpis.head(3))\n",
    "print(\"WFE \\n\", wfe.head(3))\n",
    "print(\"DS \\n\", ds.head(3))\n",
    "print(\"FED \\n\", fed.head(3))"
   ]
  },
  {
   "cell_type": "code",
   "execution_count": null,
   "metadata": {},
   "outputs": [],
   "source": []
  }
 ],
 "metadata": {
  "kernelspec": {
   "display_name": ".venv",
   "language": "python",
   "name": "python3"
  },
  "language_info": {
   "codemirror_mode": {
    "name": "ipython",
    "version": 3
   },
   "file_extension": ".py",
   "mimetype": "text/x-python",
   "name": "python",
   "nbconvert_exporter": "python",
   "pygments_lexer": "ipython3",
   "version": "3.12.4"
  }
 },
 "nbformat": 4,
 "nbformat_minor": 2
}
